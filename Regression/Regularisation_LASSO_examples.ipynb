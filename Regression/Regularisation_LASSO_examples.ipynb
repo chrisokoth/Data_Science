{
 "cells": [
  {
   "cell_type": "markdown",
   "metadata": {},
   "source": [
    "<div align=\"center\" style=\" font-size: 80%; text-align: center; margin: 0 auto\">\n",
    "<img src=\"https://raw.githubusercontent.com/Explore-AI/Pictures/master/Python-Notebook-Banners/Examples.png\"  style=\"display: block; margin-left: auto; margin-right: auto;\";/>\n",
    "</div>"
   ]
  },
  {
   "cell_type": "markdown",
   "id": "f662d169",
   "metadata": {},
   "source": [
    "# Examples: Regularisation – LASSO\n",
    "© ExploreAI Academy"
   ]
  },
  {
   "cell_type": "markdown",
   "id": "26af890c",
   "metadata": {},
   "source": [
    "In this notebook, we'll learn about L1, L2, LASSO regression, and sparsity."
   ]
  },
  {
   "cell_type": "markdown",
   "id": "2d230d14",
   "metadata": {
    "tags": []
   },
   "source": [
    "## Learning objectives\n",
    "\n",
    "By the end of this notebook, you should be able to:\n",
    "- Understand the difference between L1 and L2 regularisation.\n",
    "- Understand the code required to implement a LASSO regression model.\n",
    "- Understand the concept of sparsity."
   ]
  },
  {
   "cell_type": "markdown",
   "id": "661bad04",
   "metadata": {},
   "source": [
    "## Shrinkage methods\n",
    "\n",
    "In the train on ridge regression, we discovered that it's feasible to enhance the performance of a least squares regression model on the test set by diminishing the size of some of the coefficients, denoted as $\\hat{\\beta}$.\n",
    "\n",
    "This technique employed in ridge regression, aimed at decreasing the magnitude of the coefficients that are deemed less crucial, is known as a _shrinkage_ method. The primary goal here is to \"shrink\" the values of these coefficients to make the model more robust and potentially improve its predictive accuracy.\n",
    "\n",
    "In the context of ridge regression, it is indeed possible to significantly reduce a coefficient's value, pushing it towards zero. However, it's important to note that while these values can get very close to zero, they do not actually reach a zero value. This characteristic means that while ridge regression effectively minimises the influence of less important variables, it does not entirely eliminate them, maintaining all the variables in the final model."
   ]
  },
  {
   "cell_type": "markdown",
   "id": "42dba616",
   "metadata": {},
   "source": [
    "## L1 vs. L2 regularisation\n",
    "\n",
    "Let's recall the optimisation expression for ridge regression:\n",
    "\n",
    "$$\\min_{\\beta} (\\text{RSS} + \\alpha\\sum_{j=1}^p\\beta_j^2)$$\n",
    "\n",
    "Here, the goal is to minimise the residual sum of squares (RSS) alongside a penalty term. This expression can be simplified to:\n",
    "\n",
    "$$\\min_{\\beta} (\\text{RSS} + \\alpha(L2\\_norm))$$\n",
    "\n",
    "where $L2\\_norm$ represents the sum of the squares of the coefficients, emphasising the squared magnitude of coefficients as the penalty.\n",
    "\n",
    "In contrast, LASSO regularisation introduces the $L1\\_norm$, which is the sum of the _absolute_ values of the coefficients:\n",
    "\n",
    "$$\\min_{\\beta} (\\text{RSS} + \\alpha\\sum_{j=1}^p|\\beta_j|)$$\n",
    "\n",
    "or,\n",
    "\n",
    "$$\\min_{\\beta} (\\text{RSS} + \\alpha(L1\\_norm))$$\n",
    "\n",
    "This adaptation, known as LASSO (Least Absolute Shrinkage and Selection Operator), has the distinct ability to reduce some coefficients exactly to zero, thereby effectively eliminating those predictors from the model. This results in a sparse model that utilises a subset of all available predictors, achieving both coefficient shrinkage and feature selection simultaneously."
   ]
  },
  {
   "cell_type": "markdown",
   "id": "c3280cf6",
   "metadata": {},
   "source": [
    "## LASSO regression in `sklearn`\n",
    "\n",
    "We'll make use of the same dataset that we did in the least squares and ridge regression trains, such that we can effectively compare the results of each method."
   ]
  },
  {
   "cell_type": "code",
   "execution_count": 1,
   "id": "ac1e05a2",
   "metadata": {},
   "outputs": [],
   "source": [
    "import numpy as np\n",
    "import pandas as pd\n",
    "import matplotlib.pyplot as plt\n",
    "import seaborn as sns"
   ]
  },
  {
   "cell_type": "markdown",
   "id": "7b51cee0",
   "metadata": {},
   "source": [
    "**Next** we will load our data as a Pandas DataFrame."
   ]
  },
  {
   "cell_type": "code",
   "execution_count": 2,
   "id": "fa789fd3",
   "metadata": {},
   "outputs": [
    {
     "data": {
      "text/html": [
       "<div>\n",
       "<style scoped>\n",
       "    .dataframe tbody tr th:only-of-type {\n",
       "        vertical-align: middle;\n",
       "    }\n",
       "\n",
       "    .dataframe tbody tr th {\n",
       "        vertical-align: top;\n",
       "    }\n",
       "\n",
       "    .dataframe thead th {\n",
       "        text-align: right;\n",
       "    }\n",
       "</style>\n",
       "<table border=\"1\" class=\"dataframe\">\n",
       "  <thead>\n",
       "    <tr style=\"text-align: right;\">\n",
       "      <th></th>\n",
       "      <th>WaterQualityIndex</th>\n",
       "      <th>ClimateChangeImpactScore</th>\n",
       "      <th>LandUseChange</th>\n",
       "      <th>InvasiveSpeciesCount</th>\n",
       "      <th>ConservationFunding</th>\n",
       "      <th>EcoTourismImpact</th>\n",
       "      <th>ForestCoverChange</th>\n",
       "      <th>SoilQualityIndex</th>\n",
       "      <th>WaterUsage</th>\n",
       "      <th>RenewableEnergyUsage</th>\n",
       "      <th>CarbonEmissionLevels</th>\n",
       "      <th>AgriculturalIntensity</th>\n",
       "      <th>HabitatConnectivity</th>\n",
       "      <th>SpeciesReintroductionEfforts</th>\n",
       "      <th>PollinatorDiversity</th>\n",
       "      <th>BiodiversityHealthIndex</th>\n",
       "    </tr>\n",
       "    <tr>\n",
       "      <th>Year</th>\n",
       "      <th></th>\n",
       "      <th></th>\n",
       "      <th></th>\n",
       "      <th></th>\n",
       "      <th></th>\n",
       "      <th></th>\n",
       "      <th></th>\n",
       "      <th></th>\n",
       "      <th></th>\n",
       "      <th></th>\n",
       "      <th></th>\n",
       "      <th></th>\n",
       "      <th></th>\n",
       "      <th></th>\n",
       "      <th></th>\n",
       "      <th></th>\n",
       "    </tr>\n",
       "  </thead>\n",
       "  <tbody>\n",
       "    <tr>\n",
       "      <th>2010</th>\n",
       "      <td>35</td>\n",
       "      <td>7.542535</td>\n",
       "      <td>6.630073</td>\n",
       "      <td>39</td>\n",
       "      <td>46</td>\n",
       "      <td>1.193810</td>\n",
       "      <td>0.032204</td>\n",
       "      <td>70</td>\n",
       "      <td>33</td>\n",
       "      <td>13</td>\n",
       "      <td>22</td>\n",
       "      <td>1.419332</td>\n",
       "      <td>1.671324</td>\n",
       "      <td>9.311312</td>\n",
       "      <td>0.270434</td>\n",
       "      <td>0.194332</td>\n",
       "    </tr>\n",
       "    <tr>\n",
       "      <th>2010</th>\n",
       "      <td>13</td>\n",
       "      <td>1.617642</td>\n",
       "      <td>6.477132</td>\n",
       "      <td>45</td>\n",
       "      <td>18</td>\n",
       "      <td>8.484718</td>\n",
       "      <td>-4.803485</td>\n",
       "      <td>69</td>\n",
       "      <td>67</td>\n",
       "      <td>57</td>\n",
       "      <td>63</td>\n",
       "      <td>3.048794</td>\n",
       "      <td>5.815305</td>\n",
       "      <td>4.698086</td>\n",
       "      <td>0.729916</td>\n",
       "      <td>0.525779</td>\n",
       "    </tr>\n",
       "    <tr>\n",
       "      <th>2010</th>\n",
       "      <td>10</td>\n",
       "      <td>0.904817</td>\n",
       "      <td>9.069428</td>\n",
       "      <td>28</td>\n",
       "      <td>59</td>\n",
       "      <td>3.412444</td>\n",
       "      <td>-2.563852</td>\n",
       "      <td>72</td>\n",
       "      <td>85</td>\n",
       "      <td>37</td>\n",
       "      <td>46</td>\n",
       "      <td>7.863218</td>\n",
       "      <td>9.543694</td>\n",
       "      <td>2.080495</td>\n",
       "      <td>0.068508</td>\n",
       "      <td>0.684795</td>\n",
       "    </tr>\n",
       "    <tr>\n",
       "      <th>2010</th>\n",
       "      <td>36</td>\n",
       "      <td>7.060190</td>\n",
       "      <td>7.061932</td>\n",
       "      <td>37</td>\n",
       "      <td>88</td>\n",
       "      <td>9.718453</td>\n",
       "      <td>3.425382</td>\n",
       "      <td>64</td>\n",
       "      <td>85</td>\n",
       "      <td>96</td>\n",
       "      <td>60</td>\n",
       "      <td>1.065595</td>\n",
       "      <td>4.938359</td>\n",
       "      <td>2.192657</td>\n",
       "      <td>0.145065</td>\n",
       "      <td>0.926146</td>\n",
       "    </tr>\n",
       "    <tr>\n",
       "      <th>2010</th>\n",
       "      <td>24</td>\n",
       "      <td>8.439246</td>\n",
       "      <td>4.504786</td>\n",
       "      <td>41</td>\n",
       "      <td>88</td>\n",
       "      <td>9.118186</td>\n",
       "      <td>-1.295086</td>\n",
       "      <td>12</td>\n",
       "      <td>0</td>\n",
       "      <td>85</td>\n",
       "      <td>61</td>\n",
       "      <td>9.785784</td>\n",
       "      <td>2.114002</td>\n",
       "      <td>7.405189</td>\n",
       "      <td>0.809798</td>\n",
       "      <td>0.126345</td>\n",
       "    </tr>\n",
       "  </tbody>\n",
       "</table>\n",
       "</div>"
      ],
      "text/plain": [
       "      WaterQualityIndex  ClimateChangeImpactScore  LandUseChange  \\\n",
       "Year                                                               \n",
       "2010                 35                  7.542535       6.630073   \n",
       "2010                 13                  1.617642       6.477132   \n",
       "2010                 10                  0.904817       9.069428   \n",
       "2010                 36                  7.060190       7.061932   \n",
       "2010                 24                  8.439246       4.504786   \n",
       "\n",
       "      InvasiveSpeciesCount  ConservationFunding  EcoTourismImpact  \\\n",
       "Year                                                                \n",
       "2010                    39                   46          1.193810   \n",
       "2010                    45                   18          8.484718   \n",
       "2010                    28                   59          3.412444   \n",
       "2010                    37                   88          9.718453   \n",
       "2010                    41                   88          9.118186   \n",
       "\n",
       "      ForestCoverChange  SoilQualityIndex  WaterUsage  RenewableEnergyUsage  \\\n",
       "Year                                                                          \n",
       "2010           0.032204                70          33                    13   \n",
       "2010          -4.803485                69          67                    57   \n",
       "2010          -2.563852                72          85                    37   \n",
       "2010           3.425382                64          85                    96   \n",
       "2010          -1.295086                12           0                    85   \n",
       "\n",
       "      CarbonEmissionLevels  AgriculturalIntensity  HabitatConnectivity  \\\n",
       "Year                                                                     \n",
       "2010                    22               1.419332             1.671324   \n",
       "2010                    63               3.048794             5.815305   \n",
       "2010                    46               7.863218             9.543694   \n",
       "2010                    60               1.065595             4.938359   \n",
       "2010                    61               9.785784             2.114002   \n",
       "\n",
       "      SpeciesReintroductionEfforts  PollinatorDiversity  \\\n",
       "Year                                                      \n",
       "2010                      9.311312             0.270434   \n",
       "2010                      4.698086             0.729916   \n",
       "2010                      2.080495             0.068508   \n",
       "2010                      2.192657             0.145065   \n",
       "2010                      7.405189             0.809798   \n",
       "\n",
       "      BiodiversityHealthIndex  \n",
       "Year                           \n",
       "2010                 0.194332  \n",
       "2010                 0.525779  \n",
       "2010                 0.684795  \n",
       "2010                 0.926146  \n",
       "2010                 0.126345  "
      ]
     },
     "execution_count": 2,
     "metadata": {},
     "output_type": "execute_result"
    }
   ],
   "source": [
    "df = pd.read_csv('https://raw.githubusercontent.com/Explore-AI/Public-Data/master/SDG_15_Life_on_Land_Dataset.csv', index_col=0)\n",
    "df.head()"
   ]
  },
  {
   "cell_type": "code",
   "execution_count": 3,
   "id": "14e1ea2d",
   "metadata": {},
   "outputs": [
    {
     "data": {
      "text/plain": [
       "(1000, 16)"
      ]
     },
     "execution_count": 3,
     "metadata": {},
     "output_type": "execute_result"
    }
   ],
   "source": [
    "df.shape"
   ]
  },
  {
   "cell_type": "markdown",
   "id": "983097b6",
   "metadata": {},
   "source": [
    "## Preprocessing\n",
    "We'll be using the same dataset and train/test split as in previous regression trains, and again, we will need to standardise the data before it can be used in our LASSO model."
   ]
  },
  {
   "cell_type": "code",
   "execution_count": 4,
   "id": "1f9b1891",
   "metadata": {},
   "outputs": [],
   "source": [
    "# Separate the features from the response\n",
    "X = df.drop('BiodiversityHealthIndex', axis=1)\n",
    "y = df['BiodiversityHealthIndex']"
   ]
  },
  {
   "cell_type": "code",
   "execution_count": 5,
   "id": "3bce32d1",
   "metadata": {},
   "outputs": [],
   "source": [
    "# Import the scaling module\n",
    "from sklearn.preprocessing import StandardScaler"
   ]
  },
  {
   "cell_type": "code",
   "execution_count": 6,
   "id": "c552b7e9",
   "metadata": {},
   "outputs": [],
   "source": [
    "# Create standardization object\n",
    "scaler = StandardScaler()"
   ]
  },
  {
   "cell_type": "code",
   "execution_count": 7,
   "id": "6ef63ff4",
   "metadata": {},
   "outputs": [],
   "source": [
    "# Save standardized features into new variable\n",
    "X_scaled = scaler.fit_transform(X)"
   ]
  },
  {
   "cell_type": "code",
   "execution_count": 8,
   "id": "e515ed84",
   "metadata": {},
   "outputs": [],
   "source": [
    "# Import train/test split module\n",
    "from sklearn.model_selection import train_test_split"
   ]
  },
  {
   "cell_type": "code",
   "execution_count": 9,
   "id": "25727839",
   "metadata": {},
   "outputs": [],
   "source": [
    "# Split dataset into train and test sets\n",
    "X_train, X_test, y_train, y_test = train_test_split(X_scaled, \n",
    "                                                    y, \n",
    "                                                    test_size=0.20,\n",
    "                                                    random_state=1,\n",
    "                                                    shuffle=False)"
   ]
  },
  {
   "cell_type": "code",
   "execution_count": 10,
   "id": "208e7b33",
   "metadata": {},
   "outputs": [],
   "source": [
    "# Import LASSO module\n",
    "from sklearn.linear_model import Lasso"
   ]
  },
  {
   "cell_type": "code",
   "execution_count": 11,
   "id": "b8c39ab2",
   "metadata": {},
   "outputs": [],
   "source": [
    "# Create LASSO model object, setting alpha to 0.01\n",
    "lasso = Lasso(alpha=0.01)"
   ]
  },
  {
   "cell_type": "code",
   "execution_count": 12,
   "id": "0606a380",
   "metadata": {},
   "outputs": [
    {
     "data": {
      "text/plain": [
       "Lasso(alpha=0.01)"
      ]
     },
     "execution_count": 12,
     "metadata": {},
     "output_type": "execute_result"
    }
   ],
   "source": [
    "# Train the LASSO model\n",
    "lasso.fit(X_train, y_train)"
   ]
  },
  {
   "cell_type": "code",
   "execution_count": 13,
   "id": "9f35aefc",
   "metadata": {},
   "outputs": [],
   "source": [
    "# Extract intercept from model\n",
    "intercept = float(lasso.intercept_)"
   ]
  },
  {
   "cell_type": "code",
   "execution_count": 14,
   "id": "a092d0ad",
   "metadata": {},
   "outputs": [],
   "source": [
    "# Extract coefficient from model\n",
    "coeff = pd.DataFrame(lasso.coef_, X.columns, columns=['Coefficient'])"
   ]
  },
  {
   "cell_type": "code",
   "execution_count": 15,
   "id": "dfe09175",
   "metadata": {},
   "outputs": [
    {
     "name": "stdout",
     "output_type": "stream",
     "text": [
      "Intercept: 0.49906676138993555\n"
     ]
    }
   ],
   "source": [
    "# Extract intercept\n",
    "print(\"Intercept:\", float(intercept))"
   ]
  },
  {
   "cell_type": "markdown",
   "id": "d9fb3fd2",
   "metadata": {},
   "source": [
    "Let's take a look at the actual coefficient values:"
   ]
  },
  {
   "cell_type": "code",
   "execution_count": 16,
   "id": "ca33b71b",
   "metadata": {},
   "outputs": [
    {
     "data": {
      "text/html": [
       "<div>\n",
       "<style scoped>\n",
       "    .dataframe tbody tr th:only-of-type {\n",
       "        vertical-align: middle;\n",
       "    }\n",
       "\n",
       "    .dataframe tbody tr th {\n",
       "        vertical-align: top;\n",
       "    }\n",
       "\n",
       "    .dataframe thead th {\n",
       "        text-align: right;\n",
       "    }\n",
       "</style>\n",
       "<table border=\"1\" class=\"dataframe\">\n",
       "  <thead>\n",
       "    <tr style=\"text-align: right;\">\n",
       "      <th></th>\n",
       "      <th>Coefficient</th>\n",
       "    </tr>\n",
       "  </thead>\n",
       "  <tbody>\n",
       "    <tr>\n",
       "      <th>WaterQualityIndex</th>\n",
       "      <td>0.000000</td>\n",
       "    </tr>\n",
       "    <tr>\n",
       "      <th>ClimateChangeImpactScore</th>\n",
       "      <td>-0.000513</td>\n",
       "    </tr>\n",
       "    <tr>\n",
       "      <th>LandUseChange</th>\n",
       "      <td>0.001296</td>\n",
       "    </tr>\n",
       "    <tr>\n",
       "      <th>InvasiveSpeciesCount</th>\n",
       "      <td>0.002664</td>\n",
       "    </tr>\n",
       "    <tr>\n",
       "      <th>ConservationFunding</th>\n",
       "      <td>-0.004523</td>\n",
       "    </tr>\n",
       "    <tr>\n",
       "      <th>EcoTourismImpact</th>\n",
       "      <td>-0.010264</td>\n",
       "    </tr>\n",
       "    <tr>\n",
       "      <th>ForestCoverChange</th>\n",
       "      <td>-0.004398</td>\n",
       "    </tr>\n",
       "    <tr>\n",
       "      <th>SoilQualityIndex</th>\n",
       "      <td>0.000000</td>\n",
       "    </tr>\n",
       "    <tr>\n",
       "      <th>WaterUsage</th>\n",
       "      <td>0.000000</td>\n",
       "    </tr>\n",
       "    <tr>\n",
       "      <th>RenewableEnergyUsage</th>\n",
       "      <td>0.000000</td>\n",
       "    </tr>\n",
       "    <tr>\n",
       "      <th>CarbonEmissionLevels</th>\n",
       "      <td>-0.000000</td>\n",
       "    </tr>\n",
       "    <tr>\n",
       "      <th>AgriculturalIntensity</th>\n",
       "      <td>0.000000</td>\n",
       "    </tr>\n",
       "    <tr>\n",
       "      <th>HabitatConnectivity</th>\n",
       "      <td>0.000000</td>\n",
       "    </tr>\n",
       "    <tr>\n",
       "      <th>SpeciesReintroductionEfforts</th>\n",
       "      <td>0.001355</td>\n",
       "    </tr>\n",
       "    <tr>\n",
       "      <th>PollinatorDiversity</th>\n",
       "      <td>0.000000</td>\n",
       "    </tr>\n",
       "  </tbody>\n",
       "</table>\n",
       "</div>"
      ],
      "text/plain": [
       "                              Coefficient\n",
       "WaterQualityIndex                0.000000\n",
       "ClimateChangeImpactScore        -0.000513\n",
       "LandUseChange                    0.001296\n",
       "InvasiveSpeciesCount             0.002664\n",
       "ConservationFunding             -0.004523\n",
       "EcoTourismImpact                -0.010264\n",
       "ForestCoverChange               -0.004398\n",
       "SoilQualityIndex                 0.000000\n",
       "WaterUsage                       0.000000\n",
       "RenewableEnergyUsage             0.000000\n",
       "CarbonEmissionLevels            -0.000000\n",
       "AgriculturalIntensity            0.000000\n",
       "HabitatConnectivity              0.000000\n",
       "SpeciesReintroductionEfforts     0.001355\n",
       "PollinatorDiversity              0.000000"
      ]
     },
     "execution_count": 16,
     "metadata": {},
     "output_type": "execute_result"
    }
   ],
   "source": [
    "coeff"
   ]
  },
  {
   "cell_type": "markdown",
   "id": "62341cd8",
   "metadata": {
    "vscode": {
     "languageId": "plaintext"
    }
   },
   "source": [
    "### Interpretation of the intercept and coefficients\n",
    "\n",
    "The interpretation of the intercept and coefficients remains consistent:\n",
    "\n",
    "- The intercept is understood as the **expected `BiodiversityHealthIndex` when all predictors are at their mean values**.\n",
    "- Each coefficient represents the expected change in the `BiodiversityHealthIndex` for a one-unit increase in the **scaled predictor**.\n",
    "\n",
    "The list of coefficients demonstrates that some coefficients have been effectively reduced to zero, highlighting the impact of regularisation in feature selection and model simplification."
   ]
  },
  {
   "cell_type": "markdown",
   "id": "d1d551d3",
   "metadata": {},
   "source": [
    "## Assessment of predictive accuracy\n",
    "Again, we'll make use of the `sklearn.metrics` library to assess the accuracy of our model. We'll fit the following models as well, in order to compare the LASSO results thoroughly:\n",
    "\n",
    "- A least squares model using all available predictors.\n",
    "- A least squares model using the predictors with non-zero coefficients from LASSO.\n",
    "- A ridge regression model using all available predictors."
   ]
  },
  {
   "cell_type": "code",
   "execution_count": 17,
   "id": "d8b4e6f0",
   "metadata": {},
   "outputs": [
    {
     "data": {
      "text/plain": [
       "Ridge()"
      ]
     },
     "execution_count": 17,
     "metadata": {},
     "output_type": "execute_result"
    }
   ],
   "source": [
    "# Fit a basic linear model\n",
    "from sklearn.linear_model import LinearRegression, Ridge\n",
    "\n",
    "# Assuming 'df' is the DataFrame loaded from the SDG_15_Life_on_Land_Dataset.csv\n",
    "X_subset = df.drop(['BiodiversityHealthIndex'], axis=1)  # Dropping the response variable\n",
    "\n",
    "# Assuming 'scaler' is already defined and 'y' contains 'BiodiversityHealthIndex'\n",
    "X_subset_scaled = scaler.fit_transform(X_subset)\n",
    "\n",
    "X_train2, X_test2, y_train2, y_test2 = train_test_split(X_subset_scaled, \n",
    "                                                        y, \n",
    "                                                        test_size=0.20, \n",
    "                                                        random_state=1,\n",
    "                                                        shuffle=False)\n",
    "\n",
    "# Least squares using non-zero variables from LASSO\n",
    "lm_subset = LinearRegression()\n",
    "\n",
    "# Least squares using all predictors\n",
    "lm_all = LinearRegression()\n",
    "\n",
    "# Ridge using all predictors\n",
    "ridge = Ridge()\n",
    "\n",
    "lm_subset.fit(X_train2, y_train2)\n",
    "lm_all.fit(X_train, y_train)\n",
    "ridge.fit(X_train, y_train)\n"
   ]
  },
  {
   "cell_type": "code",
   "execution_count": 18,
   "id": "d47c7bac",
   "metadata": {},
   "outputs": [],
   "source": [
    "from sklearn import metrics"
   ]
  },
  {
   "cell_type": "code",
   "execution_count": 19,
   "id": "910ebee0",
   "metadata": {},
   "outputs": [],
   "source": [
    "# Make training set predictions for each model\n",
    "train_lm_subset = lm_subset.predict(X_train2)\n",
    "train_lm_all = lm_all.predict(X_train)\n",
    "train_ridge = ridge.predict(X_train)\n",
    "train_lasso = lasso.predict(X_train)"
   ]
  },
  {
   "cell_type": "code",
   "execution_count": 20,
   "id": "bd913535",
   "metadata": {},
   "outputs": [],
   "source": [
    "# Make test set predictions for each model\n",
    "test_lm_subset = lm_subset.predict(X_test2)\n",
    "test_lm_all = lm_all.predict(X_test)\n",
    "test_ridge = ridge.predict(X_test)\n",
    "test_lasso = lasso.predict(X_test)"
   ]
  },
  {
   "cell_type": "code",
   "execution_count": 21,
   "id": "1b4a8923",
   "metadata": {},
   "outputs": [],
   "source": [
    "# Dictionary of results\n",
    "results_dict = {'Training MSE':\n",
    "                    {\n",
    "                        \"Least Squares, Subset\": metrics.mean_squared_error(y_train2, train_lm_subset),\n",
    "                        \"Least Squares, All\": metrics.mean_squared_error(y_train, train_lm_all),\n",
    "                        \"Ridge\": metrics.mean_squared_error(y_train, train_ridge),\n",
    "                        \"LASSO\": metrics.mean_squared_error(y_train, train_lasso)\n",
    "                    },\n",
    "                    'Test MSE':\n",
    "                    {\n",
    "                        \"Least Squares, Subset\": metrics.mean_squared_error(y_test2, test_lm_subset),\n",
    "                        \"Least Squares, All\": metrics.mean_squared_error(y_test, test_lm_all),\n",
    "                        \"Ridge\": metrics.mean_squared_error(y_test, test_ridge),\n",
    "                        \"LASSO\": metrics.mean_squared_error(y_test, test_lasso)\n",
    "                    }\n",
    "                }"
   ]
  },
  {
   "cell_type": "code",
   "execution_count": 22,
   "id": "1929ebfa",
   "metadata": {},
   "outputs": [],
   "source": [
    "# Create dataframe from dictionary\n",
    "results_df = pd.DataFrame(data=results_dict)"
   ]
  },
  {
   "cell_type": "code",
   "execution_count": 23,
   "id": "7d57f04c",
   "metadata": {},
   "outputs": [
    {
     "data": {
      "text/html": [
       "<div>\n",
       "<style scoped>\n",
       "    .dataframe tbody tr th:only-of-type {\n",
       "        vertical-align: middle;\n",
       "    }\n",
       "\n",
       "    .dataframe tbody tr th {\n",
       "        vertical-align: top;\n",
       "    }\n",
       "\n",
       "    .dataframe thead th {\n",
       "        text-align: right;\n",
       "    }\n",
       "</style>\n",
       "<table border=\"1\" class=\"dataframe\">\n",
       "  <thead>\n",
       "    <tr style=\"text-align: right;\">\n",
       "      <th></th>\n",
       "      <th>Training MSE</th>\n",
       "      <th>Test MSE</th>\n",
       "    </tr>\n",
       "  </thead>\n",
       "  <tbody>\n",
       "    <tr>\n",
       "      <th>Least Squares, Subset</th>\n",
       "      <td>0.081708</td>\n",
       "      <td>0.079791</td>\n",
       "    </tr>\n",
       "    <tr>\n",
       "      <th>Least Squares, All</th>\n",
       "      <td>0.081708</td>\n",
       "      <td>0.079791</td>\n",
       "    </tr>\n",
       "    <tr>\n",
       "      <th>Ridge</th>\n",
       "      <td>0.081708</td>\n",
       "      <td>0.079787</td>\n",
       "    </tr>\n",
       "    <tr>\n",
       "      <th>LASSO</th>\n",
       "      <td>0.082665</td>\n",
       "      <td>0.078657</td>\n",
       "    </tr>\n",
       "  </tbody>\n",
       "</table>\n",
       "</div>"
      ],
      "text/plain": [
       "                       Training MSE  Test MSE\n",
       "Least Squares, Subset      0.081708  0.079791\n",
       "Least Squares, All         0.081708  0.079791\n",
       "Ridge                      0.081708  0.079787\n",
       "LASSO                      0.082665  0.078657"
      ]
     },
     "execution_count": 23,
     "metadata": {},
     "output_type": "execute_result"
    }
   ],
   "source": [
    "# View the results\n",
    "results_df"
   ]
  },
  {
   "cell_type": "code",
   "execution_count": 24,
   "id": "b691b4b9",
   "metadata": {},
   "outputs": [],
   "source": [
    "# we want to plot the train and test response variables as a continuous line\n",
    "train_plot = pd.concat([y_train, pd.Series(y_test.iloc[0], index=['Next Time Point'])])\n"
   ]
  },
  {
   "cell_type": "code",
   "execution_count": 25,
   "id": "1cc37d60",
   "metadata": {},
   "outputs": [
    {
     "data": {
      "image/png": "[encoded data removed]",
      "text/plain": [
       "<Figure size 432x288 with 1 Axes>"
      ]
     },
     "metadata": {
      "needs_background": "light"
     },
     "output_type": "display_data"
    }
   ],
   "source": [
    "plt.plot(np.arange(len(y_test)), lasso.predict(X_test), label='LASSO',color='red')\n",
    "plt.plot(np.arange(len(y_test)), ridge.predict(X_test), label='Ridge', color='yellow')\n",
    "plt.plot(np.arange(len(y_test)), lm_all.predict(X_test), label='Least Squares', color='grey')\n",
    "plt.plot(np.arange(len(y_test)), y_test.values, label='Testing', color='violet')\n",
    "plt.legend()\n",
    "\n",
    "plt.show()"
   ]
  },
  {
   "cell_type": "markdown",
   "id": "3a19fbf1",
   "metadata": {},
   "source": [
    "## Conclusion\n",
    "\n",
    "In this train, we have seen or been introduced to:\n",
    "\n",
    "- The purpose of shrinkage methods.\n",
    "- L1 and L2 regularisation.\n",
    "- The LASSO regularisation method.\n",
    "- Comparing LASSO to least squares and ridge regression models."
   ]
  },
  {
   "cell_type": "markdown",
   "id": "78859c4b",
   "metadata": {},
   "source": [
    "## Appendix \n",
    "Links to additional resources to help with the understanding of concepts presented in the train:\n",
    "\n",
    "- [Explanation of how LASSO performs variable selection by authors of ISLR](https://www.youtube.com/watch?v=FlSQgXv7Dvw)"
   ]
  },
  {
   "cell_type": "markdown",
   "id": "26fd094b-0fee-46f1-a4b8-73766813c42b",
   "metadata": {
    "tags": []
   },
   "source": [
    "#  \n",
    "\n",
    "<div align=\"center\" style=\" font-size: 80%; text-align: center; margin: 0 auto\">\n",
    "<img src=\"https://raw.githubusercontent.com/Explore-AI/Pictures/master/ExploreAI_logos/EAI_Blue_Dark.png\"  style=\"width:200px\";/>\n",
    "</div>"
   ]
  }
 ],
 "metadata": {
  "kernelspec": {
   "display_name": "Python 3 (ipykernel)",
   "language": "python",
   "name": "python3"
  },
  "language_info": {
   "codemirror_mode": {
    "name": "ipython",
    "version": 3
   },
   "file_extension": ".py",
   "mimetype": "text/x-python",
   "name": "python",
   "nbconvert_exporter": "python",
   "pygments_lexer": "ipython3",
   "version": "3.9.7"
  }
 },
 "nbformat": 4,
 "nbformat_minor": 5
}
