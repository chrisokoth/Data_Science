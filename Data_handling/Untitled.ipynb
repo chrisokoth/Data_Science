{
 "cells": [
  {
   "cell_type": "code",
   "execution_count": 1,
   "id": "687fec12",
   "metadata": {},
   "outputs": [],
   "source": [
    "# Contents of the module we are creating \n",
    "content = \"\"\"\n",
    "s = 'Hello ' \n",
    "\n",
    "def say_hi(name):\n",
    "    print(s + name)\n",
    "\n",
    "class Greet:\n",
    "    pass\n",
    "\"\"\"\n",
    "\n",
    "# Write the above text to a file called my_module.py\n",
    "# within our current working directory. \n",
    "with open('./my_module.py', 'w') as fp:\n",
    "    fp.write(content)"
   ]
  },
  {
   "cell_type": "code",
   "execution_count": 2,
   "id": "f11cd6be",
   "metadata": {},
   "outputs": [],
   "source": [
    "import my_module"
   ]
  },
  {
   "cell_type": "code",
   "execution_count": 3,
   "id": "9e9aa14d",
   "metadata": {},
   "outputs": [
    {
     "name": "stdout",
     "output_type": "stream",
     "text": [
      "Variable 's' does not exist!\n"
     ]
    }
   ],
   "source": [
    "try:\n",
    "    # Try to print the variable s\n",
    "    print(s)\n",
    "except NameError:\n",
    "    # We've caught a NameError exception (error!)\n",
    "    # We inform the programmer (you) that the variable does not exist\n",
    "    print(\"Variable 's' does not exist!\")"
   ]
  },
  {
   "cell_type": "code",
   "execution_count": 4,
   "id": "d63593c4",
   "metadata": {},
   "outputs": [
    {
     "data": {
      "text/plain": [
       "'Hello '"
      ]
     },
     "execution_count": 4,
     "metadata": {},
     "output_type": "execute_result"
    }
   ],
   "source": [
    "my_module.s"
   ]
  },
  {
   "cell_type": "code",
   "execution_count": null,
   "id": "44a03367",
   "metadata": {},
   "outputs": [],
   "source": []
  }
 ],
 "metadata": {
  "kernelspec": {
   "display_name": "Python 3 (ipykernel)",
   "language": "python",
   "name": "python3"
  },
  "language_info": {
   "codemirror_mode": {
    "name": "ipython",
    "version": 3
   },
   "file_extension": ".py",
   "mimetype": "text/x-python",
   "name": "python",
   "nbconvert_exporter": "python",
   "pygments_lexer": "ipython3",
   "version": "3.9.7"
  }
 },
 "nbformat": 4,
 "nbformat_minor": 5
}
